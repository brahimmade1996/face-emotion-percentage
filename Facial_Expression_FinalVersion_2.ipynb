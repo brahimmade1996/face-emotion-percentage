{
 "cells": [
  {
   "cell_type": "markdown",
   "metadata": {
    "colab_type": "text",
    "id": "tXY2eVgf_3zk"
   },
   "source": [
    "Imported all required libraries\n",
    "\n",
    "1.Numpy\n",
    "2.Pandas\n",
    "3.Open CV\n",
    "4.Tensorflow\n",
    "5.Keras\n",
    "6.Matplotlib"
   ]
  },
  {
   "cell_type": "code",
   "execution_count": 1,
   "metadata": {
    "colab": {
     "base_uri": "https://localhost:8080/",
     "height": 33
    },
    "colab_type": "code",
    "id": "vbTA9Os-sQkZ",
    "outputId": "8e742046-7ba3-4aa9-8106-eb27a03d0434"
   },
   "outputs": [
    {
     "name": "stderr",
     "output_type": "stream",
     "text": [
      "Using TensorFlow backend.\n"
     ]
    }
   ],
   "source": [
    "import numpy as np\n",
    "import matplotlib.pyplot as plt\n",
    "import os\n",
    "import tensorflow as tf\n",
    "import cv2\n",
    "from tensorflow.keras.applications.mobilenet import preprocess_input,MobileNet\n",
    "from tensorflow.keras.layers import Concatenate, UpSampling2D, Conv2D, Reshape,Dense\n",
    "from tensorflow.keras.models import Model\n",
    "from tensorflow.keras.optimizers import Adam\n",
    "from sklearn.model_selection import train_test_split\n",
    "from keras.layers import Dense, Input, Dropout, Flatten, Conv2D, BatchNormalization, Activation, MaxPooling2D\n",
    "from keras.models import Model, Sequential\n",
    "from keras.optimizers import Adam\n",
    "from keras.preprocessing.image import ImageDataGenerator\n",
    "from keras.models import model_from_json\n",
    "from datetime import datetime\n",
    "import pandas as pd"
   ]
  },
  {
   "cell_type": "code",
   "execution_count": 2,
   "metadata": {
    "colab": {
     "base_uri": "https://localhost:8080/",
     "height": 120
    },
    "colab_type": "code",
    "id": "XNI96Gdyt69c",
    "outputId": "f393125f-79f5-46f9-bfd3-0df0ebf47fae"
   },
   "outputs": [
    {
     "name": "stdout",
     "output_type": "stream",
     "text": [
      "Go to this URL in a browser: https://accounts.google.com/o/oauth2/auth?client_id=947318989803-6bn6qk8qdgf4n4g3pfee6491hc0brc4i.apps.googleusercontent.com&redirect_uri=urn%3aietf%3awg%3aoauth%3a2.0%3aoob&response_type=code&scope=email%20https%3a%2f%2fwww.googleapis.com%2fauth%2fdocs.test%20https%3a%2f%2fwww.googleapis.com%2fauth%2fdrive%20https%3a%2f%2fwww.googleapis.com%2fauth%2fdrive.photos.readonly%20https%3a%2f%2fwww.googleapis.com%2fauth%2fpeopleapi.readonly\n",
      "\n",
      "Enter your authorization code:\n",
      "··········\n",
      "Mounted at /content/drive\n"
     ]
    }
   ],
   "source": [
    "#Mounted the google colab to loacal drive\n",
    "from google.colab import drive\n",
    "drive.mount('/content/drive')"
   ]
  },
  {
   "cell_type": "code",
   "execution_count": 3,
   "metadata": {
    "colab": {
     "base_uri": "https://localhost:8080/",
     "height": 33
    },
    "colab_type": "code",
    "id": "dqkIw5cysjKz",
    "outputId": "24727167-85cb-4c45-a0cc-900345497212"
   },
   "outputs": [
    {
     "name": "stdout",
     "output_type": "stream",
     "text": [
      "Done!\n"
     ]
    }
   ],
   "source": [
    "#Unzipp the Dataset\n",
    "from zipfile import ZipFile\n",
    "file_name = '/content/drive/My Drive/Stark - Hackathon/99505_234911_bundle_archive.zip'\n",
    "with ZipFile(file_name, 'r') as zip: \n",
    "    zip.extractall() \n",
    "    print('Done!') "
   ]
  },
  {
   "cell_type": "markdown",
   "metadata": {
    "colab_type": "text",
    "id": "CQbjHaDEAleO"
   },
   "source": [
    "Created a Identity class function to collect the all images name with path. Here collecting only Jpeg or JPG image extensions."
   ]
  },
  {
   "cell_type": "code",
   "execution_count": 4,
   "metadata": {
    "colab": {},
    "colab_type": "code",
    "id": "S7NIz8Trt5H0"
   },
   "outputs": [],
   "source": [
    "class IdentityMetadata():\n",
    "    def __init__(self, base, name, file):\n",
    "        # print(base, name, file)\n",
    "        # dataset base directory\n",
    "        self.base = base\n",
    "        # identity name\n",
    "        self.name = name\n",
    "        # image file name\n",
    "        self.file = file\n",
    "\n",
    "    def __repr__(self):\n",
    "        return self.image_path()\n",
    "\n",
    "    def image_path(self):\n",
    "        return os.path.join(self.base, self.name, self.file) \n",
    "    \n",
    "def load_metadata(path):\n",
    "    metadata = []\n",
    "    for i in os.listdir(path):\n",
    "        for f in os.listdir(os.path.join(path, i)):\n",
    "            # Check file extension. Allow only jpg/jpeg' files.\n",
    "            ext = os.path.splitext(f)[1]\n",
    "            if ext == '.jpg' or ext == '.jpeg':\n",
    "                metadata.append(IdentityMetadata(path, i, f))\n",
    "    return np.array(metadata)"
   ]
  },
  {
   "cell_type": "code",
   "execution_count": 5,
   "metadata": {
    "colab": {
     "base_uri": "https://localhost:8080/",
     "height": 33
    },
    "colab_type": "code",
    "id": "We0d1elHu07O",
    "outputId": "d99ce9f3-86c7-4789-c701-01b383320a54"
   },
   "outputs": [
    {
     "name": "stdout",
     "output_type": "stream",
     "text": [
      "Total Train Images  28821\n"
     ]
    }
   ],
   "source": [
    "#passing the train images path to function\n",
    "train_metadata = load_metadata('/content/images/images/train')\n",
    "print ('Total Train Images ', len(train_metadata))"
   ]
  },
  {
   "cell_type": "code",
   "execution_count": 6,
   "metadata": {
    "colab": {
     "base_uri": "https://localhost:8080/",
     "height": 33
    },
    "colab_type": "code",
    "id": "KYeGf5i_vIng",
    "outputId": "88bb446b-6bd7-46ec-86f5-62df3e73b2da"
   },
   "outputs": [
    {
     "name": "stdout",
     "output_type": "stream",
     "text": [
      "Total Images  7066\n"
     ]
    }
   ],
   "source": [
    "#passing the test images path to function\n",
    "validation_metadata = load_metadata('/content/images/images/validation')\n",
    "print ('Total Images ', len(validation_metadata))"
   ]
  },
  {
   "cell_type": "code",
   "execution_count": 7,
   "metadata": {
    "colab": {},
    "colab_type": "code",
    "id": "Z0TgdxjivWkJ"
   },
   "outputs": [],
   "source": [
    "def load_image(path):\n",
    "    img = cv2.imread(path, 1)\n",
    "    img_rgb = cv2.cvtColor(img, cv2.COLOR_BGR2RGB)\n",
    "    # OpenCV loads images with color channels\n",
    "    # in BGR order. So we need to reverse them\n",
    "    return img_rgb[:,:-1]"
   ]
  },
  {
   "cell_type": "code",
   "execution_count": 8,
   "metadata": {
    "colab": {
     "base_uri": "https://localhost:8080/",
     "height": 267
    },
    "colab_type": "code",
    "id": "rMFMjdVWvdbI",
    "outputId": "1641d592-0e28-47d4-b4c4-d4e575adda50"
   },
   "outputs": [
    {
     "data": {
      "image/png": "[encoded data removed]",
      "text/plain": [
       "<Figure size 432x288 with 1 Axes>"
      ]
     },
     "metadata": {
      "needs_background": "light",
      "tags": []
     },
     "output_type": "display_data"
    }
   ],
   "source": [
    "#Ploted the sample image\n",
    "img=load_image('/content/images/images/train/neutral/9736.jpg')\n",
    "import matplotlib.pyplot as plt\n",
    "plt.imshow(img)\n",
    "plt.show()"
   ]
  },
  {
   "cell_type": "code",
   "execution_count": 9,
   "metadata": {
    "colab": {
     "base_uri": "https://localhost:8080/",
     "height": 134
    },
    "colab_type": "code",
    "id": "u3RQwTa5vnK1",
    "outputId": "d33cfad1-33a6-4afb-d369-8b51581c8e90"
   },
   "outputs": [
    {
     "name": "stdout",
     "output_type": "stream",
     "text": [
      "3205 surprise images\n",
      "4982 neutral images\n",
      "4938 sad images\n",
      "3993 angry images\n",
      "7164 happy images\n",
      "436 disgust images\n",
      "4103 fear images\n"
     ]
    }
   ],
   "source": [
    "for fec in os.listdir('/content/images/images/train'):\n",
    "    print(str(len(os.listdir('/content/images/images/train/' + fec))) + \" \" + fec + \" images\")"
   ]
  },
  {
   "cell_type": "code",
   "execution_count": 10,
   "metadata": {
    "colab": {
     "base_uri": "https://localhost:8080/",
     "height": 134
    },
    "colab_type": "code",
    "id": "LAic_Evvv5z_",
    "outputId": "6e4fcc0b-04fc-4073-bfff-942a5d79fded"
   },
   "outputs": [
    {
     "name": "stdout",
     "output_type": "stream",
     "text": [
      "797 surprise images\n",
      "1216 neutral images\n",
      "1139 sad images\n",
      "960 angry images\n",
      "1825 happy images\n",
      "111 disgust images\n",
      "1018 fear images\n"
     ]
    }
   ],
   "source": [
    "for fec in os.listdir('/content/images/images/' + \"validation\"):\n",
    "    print(str(len(os.listdir('/content/images/images/' + \"validation/\" + fec))) + \" \" + fec + \" images\")"
   ]
  },
  {
   "cell_type": "code",
   "execution_count": 11,
   "metadata": {
    "colab": {
     "base_uri": "https://localhost:8080/",
     "height": 50
    },
    "colab_type": "code",
    "id": "Wp0GyWafwyw_",
    "outputId": "d1aa76f8-5b51-4207-9555-34a55732f794"
   },
   "outputs": [
    {
     "name": "stdout",
     "output_type": "stream",
     "text": [
      "Found 28821 images belonging to 7 classes.\n",
      "Found 7066 images belonging to 7 classes.\n"
     ]
    }
   ],
   "source": [
    "batch_size =32\n",
    "image_size=48\n",
    "datagen_train = ImageDataGenerator()\n",
    "datagen_validation = ImageDataGenerator()\n",
    "train_path='/content/images/images/train'\n",
    "validation_path= '/content/images/images/validation'\n",
    "train_generator = datagen_train.flow_from_directory(train_path,\n",
    "                                                    target_size=(image_size,image_size),\n",
    "                                                    color_mode=\"grayscale\",\n",
    "                                                    batch_size=batch_size,\n",
    "                                                    class_mode='categorical',\n",
    "                                                    shuffle=True)\n",
    "\n",
    "validation_generator = datagen_validation.flow_from_directory(validation_path,\n",
    "                                                    target_size=(image_size,image_size),\n",
    "                                                    color_mode=\"grayscale\",\n",
    "                                                    batch_size=batch_size,\n",
    "                                                    class_mode='categorical',\n",
    "                                                    shuffle=False)\n"
   ]
  },
  {
   "cell_type": "markdown",
   "metadata": {
    "colab_type": "text",
    "id": "j9-ReQy1Fpgd"
   },
   "source": [
    "CNN Architecuture \n",
    "\n",
    "\n",
    "5 CNN + RELU + MAxpooling\n",
    "\n",
    "2 Dense Fully connected layer\n",
    "\n",
    "1 Output layer using Softmax\n",
    "\n",
    "\n"
   ]
  },
  {
   "cell_type": "code",
   "execution_count": 14,
   "metadata": {
    "colab": {},
    "colab_type": "code",
    "id": "WdL2HNPELwKv"
   },
   "outputs": [],
   "source": [
    "# number of possible label values\n",
    "label_classes = 7\n",
    "\n",
    "model = Sequential()\n",
    "#CNN-1 \n",
    "model.add(Conv2D(32,(3,3), padding='same', input_shape=(48, 48,1)))\n",
    "model.add(BatchNormalization())\n",
    "model.add(Activation('relu'))\n",
    "model.add(MaxPooling2D(pool_size=(2, 2)))\n",
    "\n",
    "#CNN-2\n",
    "model.add(Conv2D(64,(3,3), padding='same'))\n",
    "model.add(BatchNormalization())\n",
    "model.add(Activation('relu'))\n",
    "model.add(MaxPooling2D(pool_size=(2, 2)))\n",
    "model.add(Dropout(0.25))\n",
    "\n",
    "#CNN-3\n",
    "model.add(Conv2D(128,(5,5), padding='same'))\n",
    "model.add(BatchNormalization())\n",
    "model.add(Activation('relu'))\n",
    "model.add(MaxPooling2D(pool_size=(2, 2)))\n",
    "model.add(Dropout(0.25))\n",
    "\n",
    "#CNN-4\n",
    "model.add(Conv2D(512,(3,3), padding='same'))\n",
    "model.add(BatchNormalization())\n",
    "model.add(Activation('relu'))\n",
    "model.add(MaxPooling2D(pool_size=(2, 2)))\n",
    "model.add(Dropout(0.25))\n",
    "\n",
    "#CNN-5\n",
    "model.add(Conv2D(512,(3,3), padding='same'))\n",
    "model.add(BatchNormalization())\n",
    "model.add(Activation('relu'))\n",
    "model.add(MaxPooling2D(pool_size=(2, 2)))\n",
    "model.add(Dropout(0.25))\n",
    "\n",
    "# Flattening\n",
    "model.add(Flatten())\n",
    "\n",
    "# Fully connected layer 1st layer\n",
    "model.add(Dense(256))\n",
    "model.add(BatchNormalization())\n",
    "model.add(Activation('relu'))\n",
    "model.add(Dropout(0.25))\n",
    "\n",
    "# Fully connected layer 2nd layer\n",
    "model.add(Dense(512))\n",
    "model.add(BatchNormalization())\n",
    "model.add(Activation('relu'))\n",
    "model.add(Dropout(0.25))\n",
    "\n",
    "model.add(Dense(label_classes, activation='softmax'))\n",
    "\n",
    "opt = Adam(lr=0.0001)\n",
    "model.compile(optimizer=opt, loss='categorical_crossentropy', metrics=['accuracy'])"
   ]
  },
  {
   "cell_type": "markdown",
   "metadata": {
    "colab_type": "text",
    "id": "OOK6I6xqEwOE"
   },
   "source": [
    "This is multi label classification so using Softmax function and categorical crossentropy as loss functions."
   ]
  },
  {
   "cell_type": "code",
   "execution_count": 15,
   "metadata": {
    "colab": {
     "base_uri": "https://localhost:8080/",
     "height": 1000
    },
    "colab_type": "code",
    "id": "wFLylPVPyhpy",
    "outputId": "995333f3-585e-4473-b849-c374460985dc"
   },
   "outputs": [
    {
     "name": "stdout",
     "output_type": "stream",
     "text": [
      "Model: \"sequential_1\"\n",
      "_________________________________________________________________\n",
      "Layer (type)                 Output Shape              Param #   \n",
      "=================================================================\n",
      "conv2d_1 (Conv2D)            (None, 48, 48, 32)        320       \n",
      "_________________________________________________________________\n",
      "batch_normalization_1 (Batch (None, 48, 48, 32)        128       \n",
      "_________________________________________________________________\n",
      "activation_1 (Activation)    (None, 48, 48, 32)        0         \n",
      "_________________________________________________________________\n",
      "max_pooling2d_1 (MaxPooling2 (None, 24, 24, 32)        0         \n",
      "_________________________________________________________________\n",
      "conv2d_2 (Conv2D)            (None, 24, 24, 64)        18496     \n",
      "_________________________________________________________________\n",
      "batch_normalization_2 (Batch (None, 24, 24, 64)        256       \n",
      "_________________________________________________________________\n",
      "activation_2 (Activation)    (None, 24, 24, 64)        0         \n",
      "_________________________________________________________________\n",
      "max_pooling2d_2 (MaxPooling2 (None, 12, 12, 64)        0         \n",
      "_________________________________________________________________\n",
      "dropout_1 (Dropout)          (None, 12, 12, 64)        0         \n",
      "_________________________________________________________________\n",
      "conv2d_3 (Conv2D)            (None, 12, 12, 128)       204928    \n",
      "_________________________________________________________________\n",
      "batch_normalization_3 (Batch (None, 12, 12, 128)       512       \n",
      "_________________________________________________________________\n",
      "activation_3 (Activation)    (None, 12, 12, 128)       0         \n",
      "_________________________________________________________________\n",
      "max_pooling2d_3 (MaxPooling2 (None, 6, 6, 128)         0         \n",
      "_________________________________________________________________\n",
      "dropout_2 (Dropout)          (None, 6, 6, 128)         0         \n",
      "_________________________________________________________________\n",
      "conv2d_4 (Conv2D)            (None, 6, 6, 512)         590336    \n",
      "_________________________________________________________________\n",
      "batch_normalization_4 (Batch (None, 6, 6, 512)         2048      \n",
      "_________________________________________________________________\n",
      "activation_4 (Activation)    (None, 6, 6, 512)         0         \n",
      "_________________________________________________________________\n",
      "max_pooling2d_4 (MaxPooling2 (None, 3, 3, 512)         0         \n",
      "_________________________________________________________________\n",
      "dropout_3 (Dropout)          (None, 3, 3, 512)         0         \n",
      "_________________________________________________________________\n",
      "conv2d_5 (Conv2D)            (None, 3, 3, 512)         2359808   \n",
      "_________________________________________________________________\n",
      "batch_normalization_5 (Batch (None, 3, 3, 512)         2048      \n",
      "_________________________________________________________________\n",
      "activation_5 (Activation)    (None, 3, 3, 512)         0         \n",
      "_________________________________________________________________\n",
      "max_pooling2d_5 (MaxPooling2 (None, 1, 1, 512)         0         \n",
      "_________________________________________________________________\n",
      "dropout_4 (Dropout)          (None, 1, 1, 512)         0         \n",
      "_________________________________________________________________\n",
      "flatten_1 (Flatten)          (None, 512)               0         \n",
      "_________________________________________________________________\n",
      "dense_1 (Dense)              (None, 256)               131328    \n",
      "_________________________________________________________________\n",
      "batch_normalization_6 (Batch (None, 256)               1024      \n",
      "_________________________________________________________________\n",
      "activation_6 (Activation)    (None, 256)               0         \n",
      "_________________________________________________________________\n",
      "dropout_5 (Dropout)          (None, 256)               0         \n",
      "_________________________________________________________________\n",
      "dense_2 (Dense)              (None, 512)               131584    \n",
      "_________________________________________________________________\n",
      "batch_normalization_7 (Batch (None, 512)               2048      \n",
      "_________________________________________________________________\n",
      "activation_7 (Activation)    (None, 512)               0         \n",
      "_________________________________________________________________\n",
      "dropout_6 (Dropout)          (None, 512)               0         \n",
      "_________________________________________________________________\n",
      "dense_3 (Dense)              (None, 7)                 3591      \n",
      "=================================================================\n",
      "Total params: 3,448,455\n",
      "Trainable params: 3,444,423\n",
      "Non-trainable params: 4,032\n",
      "_________________________________________________________________\n"
     ]
    }
   ],
   "source": [
    "model.summary()\n",
    "\n",
    "#Saving the model metadata\n",
    "model_json = model.to_json()\n",
    "with open(\"model_v3.json\", \"w\") as json_file:\n",
    "    json_file.write(model_json)"
   ]
  },
  {
   "cell_type": "markdown",
   "metadata": {
    "colab_type": "text",
    "id": "HxH1np_OMvhT"
   },
   "source": [
    "Improvize the model accuracy using previous accuracy. Initially we have got the 60% accuracy .\n",
    "Now using the previous weights to increasing accuracy."
   ]
  },
  {
   "cell_type": "code",
   "execution_count": null,
   "metadata": {
    "colab": {
     "base_uri": "https://localhost:8080/",
     "height": 1000
    },
    "colab_type": "code",
    "id": "4AF2c3Nzzrxx",
    "outputId": "e0702c23-efb8-4a2b-a750-41fce8af5ce9"
   },
   "outputs": [
    {
     "name": "stdout",
     "output_type": "stream",
     "text": [
      "Epoch 1/70\n",
      "900/900 [==============================] - 669s 743ms/step - loss: 2.0049 - accuracy: 0.2230 - val_loss: 2.3074 - val_accuracy: 0.3114\n",
      "Epoch 2/70\n",
      "900/900 [==============================] - 633s 703ms/step - loss: 1.8158 - accuracy: 0.2908 - val_loss: 1.4291 - val_accuracy: 0.3934\n",
      "Epoch 3/70\n",
      "900/900 [==============================] - 633s 704ms/step - loss: 1.6823 - accuracy: 0.3528 - val_loss: 1.9810 - val_accuracy: 0.4099\n",
      "Epoch 4/70\n",
      "900/900 [==============================] - 632s 703ms/step - loss: 1.5953 - accuracy: 0.3844 - val_loss: 2.1596 - val_accuracy: 0.4342\n",
      "Epoch 5/70\n",
      "900/900 [==============================] - 633s 704ms/step - loss: 1.5181 - accuracy: 0.4120 - val_loss: 1.1452 - val_accuracy: 0.4721\n",
      "Epoch 6/70\n",
      "900/900 [==============================] - 632s 702ms/step - loss: 1.4468 - accuracy: 0.4404 - val_loss: 1.6217 - val_accuracy: 0.4869\n",
      "Epoch 7/70\n",
      "900/900 [==============================] - 633s 703ms/step - loss: 1.3985 - accuracy: 0.4577 - val_loss: 1.6681 - val_accuracy: 0.4996\n",
      "Epoch 8/70\n",
      "900/900 [==============================] - 631s 701ms/step - loss: 1.3518 - accuracy: 0.4827 - val_loss: 0.5927 - val_accuracy: 0.5334\n",
      "Epoch 9/70\n",
      "900/900 [==============================] - 632s 702ms/step - loss: 1.3031 - accuracy: 0.5013 - val_loss: 1.0086 - val_accuracy: 0.5253\n",
      "Epoch 10/70\n",
      "900/900 [==============================] - 632s 703ms/step - loss: 1.2765 - accuracy: 0.5121 - val_loss: 1.5305 - val_accuracy: 0.5018\n",
      "Epoch 11/70\n",
      "900/900 [==============================] - 631s 701ms/step - loss: 1.2411 - accuracy: 0.5271 - val_loss: 1.1531 - val_accuracy: 0.5503\n",
      "Epoch 12/70\n",
      "900/900 [==============================] - 632s 702ms/step - loss: 1.2112 - accuracy: 0.5401 - val_loss: 1.3201 - val_accuracy: 0.5313\n",
      "Epoch 13/70\n",
      "900/900 [==============================] - 632s 702ms/step - loss: 1.1867 - accuracy: 0.5430 - val_loss: 1.1007 - val_accuracy: 0.5695\n",
      "Epoch 14/70\n",
      "900/900 [==============================] - 630s 700ms/step - loss: 1.1647 - accuracy: 0.5569 - val_loss: 1.2626 - val_accuracy: 0.5415\n",
      "Epoch 15/70\n",
      "900/900 [==============================] - 633s 703ms/step - loss: 1.1388 - accuracy: 0.5671 - val_loss: 1.3960 - val_accuracy: 0.5879\n",
      "Epoch 16/70\n",
      "900/900 [==============================] - 635s 705ms/step - loss: 1.1166 - accuracy: 0.5744 - val_loss: 0.6569 - val_accuracy: 0.5971\n",
      "Epoch 17/70\n",
      "900/900 [==============================] - 634s 704ms/step - loss: 1.0948 - accuracy: 0.5839 - val_loss: 0.9179 - val_accuracy: 0.5904\n",
      "Epoch 18/70\n",
      "900/900 [==============================] - 635s 705ms/step - loss: 1.0739 - accuracy: 0.5930 - val_loss: 0.4974 - val_accuracy: 0.5962\n",
      "Epoch 19/70\n",
      "900/900 [==============================] - 644s 716ms/step - loss: 1.0511 - accuracy: 0.6043 - val_loss: 1.1859 - val_accuracy: 0.5844\n",
      "Epoch 20/70\n",
      "900/900 [==============================] - 648s 719ms/step - loss: 1.0311 - accuracy: 0.6102 - val_loss: 1.1767 - val_accuracy: 0.5871\n",
      "Epoch 21/70\n",
      "900/900 [==============================] - 648s 720ms/step - loss: 1.0116 - accuracy: 0.6153 - val_loss: 1.1017 - val_accuracy: 0.6072\n",
      "Epoch 22/70\n",
      "900/900 [==============================] - 641s 713ms/step - loss: 1.0002 - accuracy: 0.6234 - val_loss: 0.6094 - val_accuracy: 0.6106\n",
      "Epoch 23/70\n",
      "900/900 [==============================] - 644s 715ms/step - loss: 0.9784 - accuracy: 0.6318 - val_loss: 0.9489 - val_accuracy: 0.6143\n",
      "Epoch 24/70\n",
      "900/900 [==============================] - 636s 707ms/step - loss: 0.9636 - accuracy: 0.6385 - val_loss: 0.7167 - val_accuracy: 0.6137\n",
      "Epoch 25/70\n",
      "900/900 [==============================] - 637s 708ms/step - loss: 0.9492 - accuracy: 0.6424 - val_loss: 1.2990 - val_accuracy: 0.6255\n",
      "Epoch 26/70\n",
      "900/900 [==============================] - 643s 714ms/step - loss: 0.9298 - accuracy: 0.6481 - val_loss: 1.2895 - val_accuracy: 0.6198\n",
      "Epoch 27/70\n",
      "900/900 [==============================] - 635s 705ms/step - loss: 0.9072 - accuracy: 0.6626 - val_loss: 1.1705 - val_accuracy: 0.6224\n",
      "Epoch 28/70\n",
      "900/900 [==============================] - 631s 701ms/step - loss: 0.8981 - accuracy: 0.6626 - val_loss: 1.1751 - val_accuracy: 0.6346\n",
      "Epoch 29/70\n",
      "900/900 [==============================] - 631s 702ms/step - loss: 0.8708 - accuracy: 0.6729 - val_loss: 1.1557 - val_accuracy: 0.6281\n",
      "Epoch 30/70\n",
      "900/900 [==============================] - 632s 702ms/step - loss: 0.8570 - accuracy: 0.6807 - val_loss: 0.9872 - val_accuracy: 0.6309\n",
      "Epoch 31/70\n",
      "900/900 [==============================] - 635s 705ms/step - loss: 0.8463 - accuracy: 0.6859 - val_loss: 1.2153 - val_accuracy: 0.6389\n",
      "Epoch 32/70\n",
      "900/900 [==============================] - 633s 703ms/step - loss: 0.8208 - accuracy: 0.6927 - val_loss: 1.2536 - val_accuracy: 0.6278\n",
      "Epoch 33/70\n",
      "900/900 [==============================] - 630s 700ms/step - loss: 0.8074 - accuracy: 0.6990 - val_loss: 1.2220 - val_accuracy: 0.6334\n",
      "Epoch 34/70\n",
      "900/900 [==============================] - 629s 699ms/step - loss: 0.7980 - accuracy: 0.7038 - val_loss: 1.3676 - val_accuracy: 0.6416\n",
      "Epoch 35/70\n",
      "900/900 [==============================] - 630s 700ms/step - loss: 0.7804 - accuracy: 0.7109 - val_loss: 1.6695 - val_accuracy: 0.6257\n",
      "Epoch 36/70\n",
      "900/900 [==============================] - 629s 699ms/step - loss: 0.7503 - accuracy: 0.7206 - val_loss: 1.3189 - val_accuracy: 0.6429\n",
      "Epoch 37/70\n",
      "900/900 [==============================] - 629s 699ms/step - loss: 0.7438 - accuracy: 0.7235 - val_loss: 1.0104 - val_accuracy: 0.6328\n",
      "Epoch 38/70\n",
      "900/900 [==============================] - 630s 700ms/step - loss: 0.7305 - accuracy: 0.7295 - val_loss: 1.0853 - val_accuracy: 0.6469\n",
      "Epoch 39/70\n",
      "900/900 [==============================] - 629s 699ms/step - loss: 0.7122 - accuracy: 0.7357 - val_loss: 1.4560 - val_accuracy: 0.6453\n",
      "Epoch 40/70\n",
      "900/900 [==============================] - 630s 700ms/step - loss: 0.6978 - accuracy: 0.7395 - val_loss: 1.1458 - val_accuracy: 0.6476\n",
      "Epoch 41/70\n",
      "900/900 [==============================] - 628s 697ms/step - loss: 0.6803 - accuracy: 0.7488 - val_loss: 1.2245 - val_accuracy: 0.6476\n",
      "Epoch 42/70\n",
      "900/900 [==============================] - 629s 699ms/step - loss: 0.6692 - accuracy: 0.7519 - val_loss: 1.7807 - val_accuracy: 0.6339\n",
      "Epoch 43/70\n",
      "900/900 [==============================] - 630s 700ms/step - loss: 0.6531 - accuracy: 0.7571 - val_loss: 1.7188 - val_accuracy: 0.6318\n",
      "Epoch 44/70\n",
      "900/900 [==============================] - 629s 699ms/step - loss: 0.6448 - accuracy: 0.7633 - val_loss: 1.3386 - val_accuracy: 0.6510\n",
      "Epoch 45/70\n",
      "900/900 [==============================] - 631s 701ms/step - loss: 0.6228 - accuracy: 0.7706 - val_loss: 0.6236 - val_accuracy: 0.6373\n",
      "Epoch 46/70\n",
      "900/900 [==============================] - 631s 701ms/step - loss: 0.6198 - accuracy: 0.7706 - val_loss: 1.3488 - val_accuracy: 0.6405\n",
      "Epoch 47/70\n",
      "900/900 [==============================] - 631s 702ms/step - loss: 0.6051 - accuracy: 0.7775 - val_loss: 1.9496 - val_accuracy: 0.6469\n",
      "Epoch 48/70\n",
      "900/900 [==============================] - 632s 703ms/step - loss: 0.5973 - accuracy: 0.7789 - val_loss: 1.8973 - val_accuracy: 0.6483\n",
      "Epoch 49/70\n",
      "900/900 [==============================] - 641s 713ms/step - loss: 0.5707 - accuracy: 0.7883 - val_loss: 1.3226 - val_accuracy: 0.6459\n",
      "Epoch 50/70\n",
      "900/900 [==============================] - 637s 707ms/step - loss: 0.5650 - accuracy: 0.7929 - val_loss: 1.1920 - val_accuracy: 0.6385\n",
      "Epoch 51/70\n",
      "900/900 [==============================] - 647s 719ms/step - loss: 0.5513 - accuracy: 0.7960 - val_loss: 0.7059 - val_accuracy: 0.6493\n",
      "Epoch 52/70\n",
      "900/900 [==============================] - 642s 713ms/step - loss: 0.5392 - accuracy: 0.8045 - val_loss: 1.5595 - val_accuracy: 0.6483\n",
      "Epoch 53/70\n",
      "900/900 [==============================] - 633s 703ms/step - loss: 0.5340 - accuracy: 0.8033 - val_loss: 1.3581 - val_accuracy: 0.6457\n",
      "Epoch 54/70\n",
      "900/900 [==============================] - 631s 701ms/step - loss: 0.5156 - accuracy: 0.8107 - val_loss: 0.9728 - val_accuracy: 0.6427\n",
      "Epoch 55/70\n",
      "900/900 [==============================] - 632s 703ms/step - loss: 0.5050 - accuracy: 0.8122 - val_loss: 1.5647 - val_accuracy: 0.6413\n",
      "Epoch 56/70\n",
      "900/900 [==============================] - 631s 702ms/step - loss: 0.4935 - accuracy: 0.8194 - val_loss: 1.8258 - val_accuracy: 0.6453\n",
      "Epoch 57/70\n",
      "900/900 [==============================] - 633s 704ms/step - loss: 0.4804 - accuracy: 0.8241 - val_loss: 1.2902 - val_accuracy: 0.6403\n",
      "Epoch 58/70\n",
      "900/900 [==============================] - 633s 703ms/step - loss: 0.4811 - accuracy: 0.8250 - val_loss: 0.8270 - val_accuracy: 0.6479\n",
      "Epoch 59/70\n",
      "900/900 [==============================] - 633s 703ms/step - loss: 0.4796 - accuracy: 0.8244 - val_loss: 1.4775 - val_accuracy: 0.6501\n",
      "Epoch 60/70\n",
      "900/900 [==============================] - 635s 705ms/step - loss: 0.4673 - accuracy: 0.8317 - val_loss: 1.5922 - val_accuracy: 0.6415\n",
      "Epoch 61/70\n",
      "900/900 [==============================] - 631s 701ms/step - loss: 0.4460 - accuracy: 0.8363 - val_loss: 0.8470 - val_accuracy: 0.6456\n",
      "Epoch 62/70\n",
      "900/900 [==============================] - 630s 700ms/step - loss: 0.4372 - accuracy: 0.8419 - val_loss: 1.3946 - val_accuracy: 0.6487\n",
      "Epoch 63/70\n",
      "900/900 [==============================] - 632s 702ms/step - loss: 0.4246 - accuracy: 0.8439 - val_loss: 1.0357 - val_accuracy: 0.6518\n",
      "Epoch 64/70\n",
      "900/900 [==============================] - 632s 703ms/step - loss: 0.4259 - accuracy: 0.8446 - val_loss: 0.7939 - val_accuracy: 0.6493\n",
      "Epoch 65/70\n",
      "900/900 [==============================] - 633s 703ms/step - loss: 0.4128 - accuracy: 0.8492 - val_loss: 0.4169 - val_accuracy: 0.6518\n",
      "Epoch 66/70\n",
      "900/900 [==============================] - 633s 703ms/step - loss: 0.4032 - accuracy: 0.8508 - val_loss: 1.2594 - val_accuracy: 0.6511\n",
      "Epoch 67/70\n",
      "900/900 [==============================] - 631s 702ms/step - loss: 0.4010 - accuracy: 0.8561 - val_loss: 1.0684 - val_accuracy: 0.6521\n",
      "Epoch 68/70\n",
      "534/900 [================>.............] - ETA: 4:06 - loss: 0.3894 - accuracy: 0.8563"
     ]
    }
   ],
   "source": [
    "history = model.fit_generator(generator=train_generator,\n",
    "                                steps_per_epoch=train_generator.n//train_generator.batch_size,\n",
    "                                epochs=70,\n",
    "                                validation_data = validation_generator,\n",
    "                                validation_steps = validation_generator.n//validation_generator.batch_size\n",
    "                                )\n",
    "model.save_weights(\"/content/drive/My Drive/fec_model_weights.h5\")"
   ]
  },
  {
   "cell_type": "code",
   "execution_count": 16,
   "metadata": {
    "colab": {},
    "colab_type": "code",
    "id": "hJYwEkVmIE3l"
   },
   "outputs": [],
   "source": [
    "model.load_weights('/content/drive/My Drive/fec_model_weights_v2.h5')"
   ]
  },
  {
   "cell_type": "code",
   "execution_count": 18,
   "metadata": {
    "colab": {
     "base_uri": "https://localhost:8080/",
     "height": 271
    },
    "colab_type": "code",
    "id": "qwtEn7RZI5DP",
    "outputId": "8c6dfddc-bf23-4f18-c907-474a3855d37e"
   },
   "outputs": [
    {
     "name": "stdout",
     "output_type": "stream",
     "text": [
      "Epoch 1/7\n",
      "900/900 [==============================] - 679s 754ms/step - loss: 0.5312 - accuracy: 0.8056 - val_loss: 1.1685 - val_accuracy: 0.6409\n",
      "Epoch 2/7\n",
      "900/900 [==============================] - 678s 754ms/step - loss: 0.5298 - accuracy: 0.8043 - val_loss: 0.6846 - val_accuracy: 0.6483\n",
      "Epoch 3/7\n",
      "900/900 [==============================] - 683s 759ms/step - loss: 0.5118 - accuracy: 0.8101 - val_loss: 0.5730 - val_accuracy: 0.6432\n",
      "Epoch 4/7\n",
      "900/900 [==============================] - 679s 754ms/step - loss: 0.5112 - accuracy: 0.8129 - val_loss: 1.1389 - val_accuracy: 0.6315\n",
      "Epoch 5/7\n",
      "900/900 [==============================] - 680s 755ms/step - loss: 0.4975 - accuracy: 0.8160 - val_loss: 1.2574 - val_accuracy: 0.6483\n",
      "Epoch 6/7\n",
      "900/900 [==============================] - 680s 755ms/step - loss: 0.4828 - accuracy: 0.8222 - val_loss: 0.2748 - val_accuracy: 0.6405\n",
      "Epoch 7/7\n",
      "900/900 [==============================] - 690s 766ms/step - loss: 0.4798 - accuracy: 0.8221 - val_loss: 0.9728 - val_accuracy: 0.6405\n"
     ]
    }
   ],
   "source": [
    "history = model.fit_generator(generator=train_generator,\n",
    "                                steps_per_epoch=train_generator.n//train_generator.batch_size,\n",
    "                                epochs=7,\n",
    "                                validation_data = validation_generator,\n",
    "                                validation_steps = validation_generator.n//validation_generator.batch_size\n",
    "                                )\n"
   ]
  },
  {
   "cell_type": "code",
   "execution_count": 21,
   "metadata": {
    "colab": {},
    "colab_type": "code",
    "id": "S--z9nr5LEuO"
   },
   "outputs": [],
   "source": [
    "model.save_weights(\"/content/drive/My Drive/fec_model_weights.h5\")"
   ]
  },
  {
   "cell_type": "code",
   "execution_count": 23,
   "metadata": {
    "colab": {
     "base_uri": "https://localhost:8080/",
     "height": 265
    },
    "colab_type": "code",
    "id": "fhBbxFNG7cdj",
    "outputId": "d6d54d30-d83e-4713-922f-238f85230fc5"
   },
   "outputs": [
    {
     "data": {
      "image/png": "[encoded data removed]",
      "text/plain": [
       "<Figure size 864x288 with 2 Axes>"
      ]
     },
     "metadata": {
      "needs_background": "light",
      "tags": []
     },
     "output_type": "display_data"
    }
   ],
   "source": [
    "#First Training accuracy and Validation accuracy\n",
    "plt.figure(figsize=(12,4))\n",
    "plt.subplot(131)\n",
    "plt.plot(history.epoch, history.history[\"loss\"], label=\"Train loss\")\n",
    "plt.plot(history.epoch, history.history[\"val_loss\"], label=\"Valid loss\")\n",
    "plt.legend()\n",
    "plt.subplot(132)\n",
    "plt.plot(history.epoch, history.history[\"accuracy\"], label=\"Train accuracy\")\n",
    "plt.plot(history.epoch, history.history[\"val_accuracy\"], label=\"Valid accuracy\")\n",
    "plt.legend()\n",
    "plt.show()"
   ]
  },
  {
   "cell_type": "code",
   "execution_count": 20,
   "metadata": {
    "colab": {
     "base_uri": "https://localhost:8080/",
     "height": 265
    },
    "colab_type": "code",
    "id": "3cPrU6W_vWQz",
    "outputId": "31b2b944-bb03-48f5-c458-24e1cefef4bc"
   },
   "outputs": [
    {
     "data": {
      "image/png": "[encoded data removed]",
      "text/plain": [
       "<Figure size 864x288 with 2 Axes>"
      ]
     },
     "metadata": {
      "needs_background": "light",
      "tags": []
     },
     "output_type": "display_data"
    }
   ],
   "source": [
    "#Second Run and final accuracy. \n",
    "plt.figure(figsize=(12,4))\n",
    "plt.subplot(131)\n",
    "plt.plot(history.epoch, history.history[\"loss\"], label=\"Train loss\")\n",
    "plt.plot(history.epoch, history.history[\"val_loss\"], label=\"Valid loss\")\n",
    "plt.legend()\n",
    "plt.subplot(132)\n",
    "plt.plot(history.epoch, history.history[\"accuracy\"], label=\"Train accuracy\")\n",
    "plt.plot(history.epoch, history.history[\"val_accuracy\"], label=\"Valid accuracy\")\n",
    "plt.legend()\n",
    "plt.show()"
   ]
  },
  {
   "cell_type": "code",
   "execution_count": null,
   "metadata": {
    "colab": {},
    "colab_type": "code",
    "id": "XGFnXE0IiWc1"
   },
   "outputs": [],
   "source": [
    "#Save the mode wights as fec_model_weights.h5 and capturing the metadata into json.\n",
    "model_json = model.to_json()\n",
    "with open(\"model.json\", \"w\") as json_file:\n",
    "    json_file.write(model_json)\n",
    "model_weights = model.get_weights()\n",
    "model.save_weights(\"/content/drive/My Drive/fec_model_weights.h5\")"
   ]
  },
  {
   "cell_type": "markdown",
   "metadata": {
    "colab_type": "text",
    "id": "YSmJZ_BHNpqL"
   },
   "source": [
    "Facemodel class is used to load the Model,Model weights and predict the emotions."
   ]
  },
  {
   "cell_type": "code",
   "execution_count": 2,
   "metadata": {
    "colab": {},
    "colab_type": "code",
    "id": "lIdeY306USYs"
   },
   "outputs": [],
   "source": [
    "class Facemodel(object):\n",
    "\n",
    "    emotions = [\"Angry\", \"Disgust\",\"Fear\", \"Happy\",\"Neutral\", \"Sad\",\"Surprise\"]\n",
    "\n",
    "    def __init__(self, model_json_file, model_weights_file):\n",
    "        with open(model_json_file, \"r\") as json_file:\n",
    "            loaded_model_json = json_file.read()\n",
    "            self.loaded_model = model_from_json(loaded_model_json)\n",
    "\n",
    "        # load weights into the new model\n",
    "        self.loaded_model.load_weights(model_weights_file)\n",
    "        self.loaded_model._make_predict_function()\n",
    "\n",
    "    def predicts(self, img):\n",
    "        self.preds = self.loaded_model.predict(img)\n",
    "        return Facemodel.emotions[np.argmax(self.preds)]"
   ]
  },
  {
   "cell_type": "markdown",
   "metadata": {
    "colab_type": "text",
    "id": "Sz2ALwgNOA5C"
   },
   "source": [
    "Haarcascade_frontalface_default.xml - This is used to identify the face which is widely used to detect the faces.\n",
    "Loaded the CNN model and weights to model1."
   ]
  },
  {
   "cell_type": "code",
   "execution_count": 3,
   "metadata": {
    "colab": {},
    "colab_type": "code",
    "id": "pMd0vqNMBSOE"
   },
   "outputs": [],
   "source": [
    "facecascade = cv2.CascadeClassifier('haarcascade_frontalface_default.xml')\n",
    "model1 = Facemodel(\"model_v2.json\", \"fec_model_weights_v4.h5\")"
   ]
  },
  {
   "cell_type": "markdown",
   "metadata": {
    "colab_type": "text",
    "id": "FLjjkBRff3Ri"
   },
   "source": [
    "real_time_capture function is used to enable webcam and predict the face emotions and identify the percentage of the emptions"
   ]
  },
  {
   "cell_type": "code",
   "execution_count": 4,
   "metadata": {
    "colab": {},
    "colab_type": "code",
    "id": "RzGjcpG_D5S7"
   },
   "outputs": [],
   "source": [
    "def real_time_captre(text, cap):\n",
    "    model_predictions,emoPercent,timeEmo=[],[],[]\n",
    "    percent=0\n",
    "    while(True):\n",
    "        ret, img = cap.read()\n",
    "        gray_fr = cv2.cvtColor(img, cv2.COLOR_BGR2GRAY)\n",
    "        faces = facecascade.detectMultiScale(gray_fr, 1.3, 5)\n",
    "        font = cv2.FONT_HERSHEY_SIMPLEX\n",
    "        for x,y,w,h in faces:\n",
    "            fc = gray_fr[y:y+h, x:x+w]\n",
    "            #resize the image to 48x48\n",
    "            roi = cv2.resize(fc, (48, 48))\n",
    "            frame_count = int(cap.get(cv2.CAP_PROP_FRAME_COUNT))\n",
    "            #Model Predictions\n",
    "            pred = model1.predicts(roi[np.newaxis, :, :, np.newaxis])\n",
    "            model_predictions.append(pred)\n",
    "            #Percentage Calculation\n",
    "            percent=round(model_predictions.count(pred)/len(model_predictions)*100,2)\n",
    "            emoPercent.append(percent)\n",
    "            timeEmo.append(datetime.now())\n",
    "            cv2.putText(img, pred +'  ' + str(percent), (x, y), font, 1, (0, 255, 255), 2)\n",
    "            cv2.rectangle(img,(x,y),(x+w,y+h),(0,255,0),2)\n",
    "        \n",
    "        cv2.imshow(\"Image\", img)\n",
    "        \n",
    "        #Press q to quit\n",
    "        if cv2.waitKey(1) == ord('q'):\n",
    "            cap.release()\n",
    "            cv2.destroyAllWindows()\n",
    "            break\n",
    "    return model_predictions,timeEmo,emoPercent"
   ]
  },
  {
   "cell_type": "markdown",
   "metadata": {
    "colab_type": "text",
    "id": "lDo8M4lYgLTn"
   },
   "source": [
    "Video_capture function is used to play the videos and predit the emotions."
   ]
  },
  {
   "cell_type": "code",
   "execution_count": 5,
   "metadata": {
    "colab": {},
    "colab_type": "code",
    "id": "Hf4rvW-CEKcN"
   },
   "outputs": [],
   "source": [
    "def video_capture(cap):\n",
    "    model_pred1,emoPercent=[],[]\n",
    "    model_count=0\n",
    "    percent=0\n",
    "    timeEmo=[]\n",
    "\n",
    "    while(True):\n",
    "        ret, img = cap.read()\n",
    "        if ret == True:\n",
    "            #Rezie the video windows size\n",
    "            #print (img.shape)\n",
    "            img1 = cv2.resize(img,(960,540),fx=0,fy=0, interpolation = cv2.INTER_CUBIC)\n",
    "            gray_fr = cv2.cvtColor(img1, cv2.COLOR_BGR2GRAY)\n",
    "            font = cv2.FONT_HERSHEY_SIMPLEX\n",
    "            faces = facecascade.detectMultiScale(gray_fr, 1.3, 5)\n",
    "            for x,y,w,h in faces:\n",
    "                fc = gray_fr[y:y+h, x:x+w]\n",
    "                roi = cv2.resize(fc, (48, 48))\n",
    "                #Model Prediction\n",
    "                pred = model1.predicts(roi[np.newaxis, :, :, np.newaxis])\n",
    "                model_pred1.append(pred)\n",
    "                \n",
    "                #Percentage Calculation\n",
    "                percent=round(model_pred1.count(pred)/len(model_pred1)*100,2)\n",
    "                \n",
    "                #Capturing percentage & Time details\n",
    "                emoPercent.append(percent)\n",
    "                timeEmo.append(datetime.now())\n",
    "                cv2.putText(img1, pred +' '+str(percent), (x, y), font, 1, (0, 255, 0), 2)\n",
    "                cv2.rectangle(img1,(x,y),(x+w,y+h),(0,255,0),2)\n",
    "            cv2.imshow(\"Image\", img1)\n",
    "        else:\n",
    "            break\n",
    "        #Press Q to quit\n",
    "        if cv2.waitKey(1) == ord('q'):\n",
    "            cap.release()\n",
    "            cv2.destroyAllWindows()\n",
    "            break\n",
    "    cap.release()\n",
    "    cv2.destroyAllWindows()\n",
    "    return model_pred1,timeEmo,emoPercent"
   ]
  },
  {
   "cell_type": "code",
   "execution_count": 21,
   "metadata": {},
   "outputs": [],
   "source": [
    "#Percentage = count of emotions/Total no of predictions\n",
    "emotions_list = [\"Angry\", \"Disgust\",\"Fear\", \"Happy\",\"Neutral\", \"Sad\",\"Surprise\"]\n",
    "def final_predictions(pred,allEmotions):\n",
    "    emoPercent={}\n",
    "    for emotion in set(allEmotions):\n",
    "        if emotion not in ['Neutral']:\n",
    "            emoPercent[emotion]=[]\n",
    "            emoPercent[emotion].append(round(pred.count(emotion)/(len(pred)-pred.count('Neutral'))*100,2))\n",
    "    l=emoPercent\n",
    "    positiveEmo= sum(l['Happy'] + l['Surprise'])\n",
    "    negativeEmo= sum(l['Sad'] + l['Angry'] + l['Disgust'])\n",
    "    if positiveEmo > negativeEmo:\n",
    "        if positiveEmo>=80.0:\n",
    "            print ('Happy - Predicted perecentage of Happy % is {}'.format(positiveEmo))\n",
    "        else:\n",
    "            print ('Happy but no imapct - Predicted percentage of No Impact % is {}'.format(positiveEmo))\n",
    "    else:\n",
    "        if negativeEmo<=20.0:\n",
    "            print ('Predicted perecentage of Upset % is {}'.format(negativeEmo))\n",
    "        else:\n",
    "            print ('Upset and No Impact- Predicted percentage of No Imapct % is {}'.format(negativeEmo))"
   ]
  },
  {
   "cell_type": "code",
   "execution_count": 7,
   "metadata": {
    "colab": {},
    "colab_type": "code",
    "id": "8BmYByr1ha5J"
   },
   "outputs": [
    {
     "name": "stdout",
     "output_type": "stream",
     "text": [
      "Fear - 0.16366612111292964\n",
      "Happy - 48.93617021276596\n",
      "Neutral - 44.51718494271686\n",
      "Angry - 6.055646481178396\n",
      "Sad - 0.32733224222585927\n"
     ]
    }
   ],
   "source": [
    "#Run this fnction for real time predictions\n",
    "cap = cv2.VideoCapture(0)\n",
    "predictions,video_timing,percentage=real_time_captre('None',cap)\n",
    "\n",
    "#Calculate the overall predictions\n",
    "for emotion in set(predictions):\n",
    "    print ('{} - {}'.format(emotion,(predictions.count(emotion)/len(predictions))*100))"
   ]
  },
  {
   "cell_type": "code",
   "execution_count": 8,
   "metadata": {
    "colab": {},
    "colab_type": "code",
    "id": "BZ8IspFwhgUr"
   },
   "outputs": [
    {
     "data": {
      "image/png": "[encoded data removed]",
      "text/plain": [
       "<Figure size 432x288 with 1 Axes>"
      ]
     },
     "metadata": {
      "needs_background": "light"
     },
     "output_type": "display_data"
    },
    {
     "data": {
      "image/png": "[encoded data removed]",
      "text/plain": [
       "<Figure size 432x288 with 1 Axes>"
      ]
     },
     "metadata": {
      "needs_background": "light"
     },
     "output_type": "display_data"
    }
   ],
   "source": [
    "#Save the results in Dataframe for future analysis\n",
    "df = pd.DataFrame(columns=[])\n",
    "df['emotion']=predictions\n",
    "df['timeEmo']=video_timing\n",
    "df['per']=percentage\n",
    "\n",
    "ax=plt.gca()\n",
    "df.plot(kind='line',x='emotion',y='timeEmo', ax=ax)\n",
    "plt.show()\n",
    "ax=plt.gca()\n",
    "df.plot(kind='line',x='emotion',y='per', ax=ax)\n",
    "plt.show()"
   ]
  },
  {
   "cell_type": "code",
   "execution_count": 9,
   "metadata": {
    "colab": {},
    "colab_type": "code",
    "id": "Xei7zJP2hqZn"
   },
   "outputs": [
    {
     "data": {
      "image/png": "[encoded data removed]",
      "text/plain": [
       "<Figure size 720x288 with 1 Axes>"
      ]
     },
     "metadata": {
      "needs_background": "light"
     },
     "output_type": "display_data"
    }
   ],
   "source": [
    "emotions_dict = { \"Surprise\" : 6, \"Happy\" : 5, \"Neutral\" : 4, \"Fear\" : 3, \"Angry\" : 2,\"Sad\" : 1,\"Disgust\" : 0}\n",
    "x_axis=video_timing\n",
    "y_axis = []\n",
    "for emotions in df['emotion'] :\n",
    "    y_axis.append(emotions_dict[emotions])\n",
    "    \n",
    "fig, axplt = plt.subplots(figsize=(10, 4))\n",
    "label_format = {'fontsize':12, 'fontweight':'bold'}\n",
    "title_format = {'fontsize':15, 'fontweight':'bold'}\n",
    "\n",
    "axplt.plot(x_axis, y_axis, color='crimson', linestyle='-')\n",
    "\n",
    "#Borders\n",
    "axplt.spines['top'].set_visible(False)\n",
    "axplt.spines['right'].set_visible(False)\n",
    "axplt.spines['left'].set_visible(False)\n",
    "\n",
    "#Set Labels\n",
    "axplt.set_xlabel('Time Duration', **label_format)\n",
    "axplt.set_ylabel('Emotions', **label_format)\n",
    "\n",
    "#Emotion Values\n",
    "axplt.set_yticks( list(emotions_dict.values()) )\n",
    "axplt.set_yticklabels( list(emotions_dict.keys()) )\n",
    "\n",
    "fig.tight_layout()\n",
    "plt.show()"
   ]
  },
  {
   "cell_type": "code",
   "execution_count": 10,
   "metadata": {},
   "outputs": [
    {
     "name": "stdout",
     "output_type": "stream",
     "text": [
      "Happy - Predicted perecentage of Happy % is 88.2\n"
     ]
    }
   ],
   "source": [
    "final_predictions(predictions,emotions_list)"
   ]
  },
  {
   "cell_type": "code",
   "execution_count": 23,
   "metadata": {
    "colab": {},
    "colab_type": "code",
    "id": "acP38tqrh3e8"
   },
   "outputs": [],
   "source": [
    "#Run this function to PLAY Video -- business242.mov\n",
    "cap = cv2.VideoCapture('little_girl_smiling11.mov')\n",
    "predictions,video_timing,percentage=video_capture(cap)"
   ]
  },
  {
   "cell_type": "code",
   "execution_count": 16,
   "metadata": {
    "colab": {},
    "colab_type": "code",
    "id": "MBAF2x0HiNon"
   },
   "outputs": [
    {
     "name": "stdout",
     "output_type": "stream",
     "text": [
      "Fear - 1.78\n",
      "Happy - 51.56\n",
      "Neutral - 30.0\n",
      "Angry - 0.44\n",
      "Surprise - 14.67\n",
      "Sad - 0.22\n",
      "Disgust - 1.33\n"
     ]
    },
    {
     "data": {
      "image/png": "[encoded data removed]",
      "text/plain": [
       "<Figure size 432x288 with 1 Axes>"
      ]
     },
     "metadata": {
      "needs_background": "light"
     },
     "output_type": "display_data"
    },
    {
     "data": {
      "image/png": "[encoded data removed]",
      "text/plain": [
       "<Figure size 432x288 with 1 Axes>"
      ]
     },
     "metadata": {
      "needs_background": "light"
     },
     "output_type": "display_data"
    }
   ],
   "source": [
    "for emotion in set(predictions):\n",
    "    print ('{} - {}'.format(emotion,(round(predictions.count(emotion)/len(predictions)*100,2))))\n",
    "\n",
    "df = pd.DataFrame(columns=[])\n",
    "df['emotion']=predictions\n",
    "df['timeEmo']=video_timing\n",
    "df['per']=percentage\n",
    "\n",
    "ax=plt.gca()\n",
    "df.plot(kind='line',x='emotion',y='timeEmo', ax=ax)\n",
    "plt.show()\n",
    "ax=plt.gca()\n",
    "df.plot(kind='line',x='emotion',y='per', ax=ax)\n",
    "plt.show()"
   ]
  },
  {
   "cell_type": "code",
   "execution_count": 17,
   "metadata": {
    "colab": {},
    "colab_type": "code",
    "id": "izQU54ZBiRsy"
   },
   "outputs": [
    {
     "data": {
      "image/png": "[encoded data removed]",
      "text/plain": [
       "<Figure size 720x288 with 1 Axes>"
      ]
     },
     "metadata": {
      "needs_background": "light"
     },
     "output_type": "display_data"
    }
   ],
   "source": [
    "emotions_dict = { \"Surprise\" : 6, \"Happy\" : 5, \"Neutral\" : 4, \"Fear\" : 3, \"Angry\" : 2,\"Sad\" : 1,\"Disgust\" : 0}\n",
    "x_axis=video_timing\n",
    "y_axis = []\n",
    "for emotions in df['emotion'] :\n",
    "    y_axis.append(emotions_dict[emotions])\n",
    "    \n",
    "fig, axplt = plt.subplots(figsize=(10, 4))\n",
    "label_format = {'fontsize':12, 'fontweight':'bold'}\n",
    "title_format = {'fontsize':15, 'fontweight':'bold'}\n",
    "\n",
    "\n",
    "axplt.plot(x_axis, y_axis, color='crimson', linestyle='-')\n",
    "\n",
    "axplt.spines['top'].set_visible(False)\n",
    "axplt.spines['right'].set_visible(False)\n",
    "axplt.spines['left'].set_visible(False)\n",
    "\n",
    "axplt.set_xlabel('Time Duration', **label_format)\n",
    "axplt.set_ylabel('Emotions', **label_format)\n",
    "\n",
    "### tell matplotlib the ticks and labels to use on Y-axis\n",
    "axplt.set_yticks( list(emotions_dict.values()) )\n",
    "axplt.set_yticklabels( list(emotions_dict.keys()) )\n",
    "\n",
    "fig.tight_layout()\n",
    "plt.show()"
   ]
  },
  {
   "cell_type": "code",
   "execution_count": 22,
   "metadata": {},
   "outputs": [
    {
     "name": "stdout",
     "output_type": "stream",
     "text": [
      "Happy - Predicted perecentage of Happy % is 94.60000000000001\n"
     ]
    }
   ],
   "source": [
    "final_predictions(predictions,emotions_list)"
   ]
  }
 ],
 "metadata": {
  "colab": {
   "collapsed_sections": [],
   "name": "Facial_Expression_FinalVersion.ipynb",
   "provenance": []
  },
  "kernelspec": {
   "display_name": "Python 3",
   "language": "python",
   "name": "python3"
  },
  "language_info": {
   "codemirror_mode": {
    "name": "ipython",
    "version": 3
   },
   "file_extension": ".py",
   "mimetype": "text/x-python",
   "name": "python",
   "nbconvert_exporter": "python",
   "pygments_lexer": "ipython3",
   "version": "3.7.7"
  }
 },
 "nbformat": 4,
 "nbformat_minor": 1
}
